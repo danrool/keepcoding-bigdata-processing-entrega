{
 "cells": [
  {
   "cell_type": "code",
   "execution_count": 1,
   "id": "c5d31730-c1bb-4525-964b-5099c70094c3",
   "metadata": {},
   "outputs": [],
   "source": [
    "#!pip install findspark\n",
    "#!pip install pandas\n",
    "#!pip install pyspark"
   ]
  },
  {
   "cell_type": "code",
   "execution_count": 2,
   "id": "032e595d-0360-4cf3-8691-5dfcdf8b9535",
   "metadata": {},
   "outputs": [],
   "source": [
    "import pyspark\n",
    "\n",
    "#Crear una sesión de Spark\n",
    "from pyspark.sql import SparkSession\n",
    "\n",
    "#Importar funciones y tipos\n",
    "from pyspark.sql.functions import *\n",
    "#from pyspark.sql.functions import col\n",
    "from pyspark.sql.types import DoubleType, IntegerType\n",
    "\n",
    "from pyspark.sql.window import Window\n",
    "from pyspark.sql import functions as f\n",
    "\n",
    "#Crear el objeto Spark session\n",
    "spark = SparkSession.builder.appName(\"BD12\").getOrCreate()\n"
   ]
  },
  {
   "cell_type": "code",
   "execution_count": 3,
   "id": "c45257d7-8447-49b4-81c6-17a0b54e4fe5",
   "metadata": {},
   "outputs": [],
   "source": [
    "##### CARGO LOS DATASETS\n",
    "\n",
    "#Leer el archivo de disco --------------->> SE DEBE AJUSTAR LA RUTA\n",
    "\n",
    "dfOriginal2021 = spark.read.option(\"header\",\"true\").csv(\"C:/Datasets/world-happiness-report-2021.csv\")\n",
    "\n",
    "dfOriginalAll = spark.read.option(\"header\",\"true\").csv(\"C:/Datasets/world-happiness-report.csv\")\n",
    "\n"
   ]
  },
  {
   "cell_type": "code",
   "execution_count": 4,
   "id": "6ef75c91-2545-481f-afd0-1df9679f4f08",
   "metadata": {},
   "outputs": [
    {
     "name": "stdout",
     "output_type": "stream",
     "text": [
      "root\n",
      " |-- Country name: string (nullable = true)\n",
      " |-- Regional indicator: string (nullable = true)\n",
      " |-- Ladder score: string (nullable = true)\n",
      " |-- Standard error of ladder score: string (nullable = true)\n",
      " |-- upperwhisker: string (nullable = true)\n",
      " |-- lowerwhisker: string (nullable = true)\n",
      " |-- Logged GDP per capita: string (nullable = true)\n",
      " |-- Social support: string (nullable = true)\n",
      " |-- Healthy life expectancy: string (nullable = true)\n",
      " |-- Freedom to make life choices: string (nullable = true)\n",
      " |-- Generosity: string (nullable = true)\n",
      " |-- Perceptions of corruption: string (nullable = true)\n",
      " |-- Ladder score in Dystopia: string (nullable = true)\n",
      " |-- Explained by: Log GDP per capita: string (nullable = true)\n",
      " |-- Explained by: Social support: string (nullable = true)\n",
      " |-- Explained by: Healthy life expectancy: string (nullable = true)\n",
      " |-- Explained by: Freedom to make life choices: string (nullable = true)\n",
      " |-- Explained by: Generosity: string (nullable = true)\n",
      " |-- Explained by: Perceptions of corruption: string (nullable = true)\n",
      " |-- Dystopia + residual: string (nullable = true)\n",
      "\n",
      "root\n",
      " |-- Country name: string (nullable = true)\n",
      " |-- year: string (nullable = true)\n",
      " |-- Life Ladder: string (nullable = true)\n",
      " |-- Log GDP per capita: string (nullable = true)\n",
      " |-- Social support: string (nullable = true)\n",
      " |-- Healthy life expectancy at birth: string (nullable = true)\n",
      " |-- Freedom to make life choices: string (nullable = true)\n",
      " |-- Generosity: string (nullable = true)\n",
      " |-- Perceptions of corruption: string (nullable = true)\n",
      " |-- Positive affect: string (nullable = true)\n",
      " |-- Negative affect: string (nullable = true)\n",
      "\n"
     ]
    }
   ],
   "source": [
    "# Visualizacion de los shemas de los DF\n",
    "\n",
    "dfOriginal2021.printSchema()\n",
    "dfOriginalAll.printSchema()"
   ]
  },
  {
   "cell_type": "code",
   "execution_count": 5,
   "id": "501ba780",
   "metadata": {},
   "outputs": [],
   "source": [
    "#\n",
    "# Ejercicio 1 - ¿Cuál es el país más “feliz” del 2021 según la data? (considerar que la columna “Ladder score” \n",
    "#               mayor número más feliz es el país)"
   ]
  },
  {
   "cell_type": "code",
   "execution_count": 6,
   "id": "20e6f92a-7acb-4ed8-9d9a-2fa8a70ae5a9",
   "metadata": {},
   "outputs": [
    {
     "name": "stdout",
     "output_type": "stream",
     "text": [
      "\u001b[1mEl pais con mayor indice de felicidad en 2021 es:\u001b[0m\n",
      "Pais  : Finland\n",
      "Score : 7.842\n"
     ]
    }
   ],
   "source": [
    "# Selecciono las columnas a utilizar\n",
    "dfWork1 = dfOriginal2021.select(col(\"Country name\").alias(\"CountryName\"),\n",
    "                            col(\"Regional indicator\").alias(\"RegionalIndicator\"),\n",
    "                            col(\"Ladder score\").cast(DoubleType()).alias(\"LadderScore\"))\n",
    "\n",
    "# Examino el esquema generado\n",
    "#dfWork1.printSchema()\n",
    "\n",
    "# Obtento el dato solicitado\n",
    "dfPunto1 = dfWork1.orderBy(col(\"LadderScore\").desc()).first()\n",
    "\n",
    "# Muestro el resultado\n",
    "print(\"\\033[1mEl pais con mayor indice de felicidad en 2021 es:\\033[0m\")\n",
    "print(\"Pais  :\", dfPunto1[\"CountryName\"])\n",
    "print(\"Score :\", dfPunto1[\"LadderScore\"])\n"
   ]
  },
  {
   "cell_type": "code",
   "execution_count": null,
   "id": "3254928b-b5a1-4942-bffc-d89d9064971a",
   "metadata": {},
   "outputs": [],
   "source": []
  },
  {
   "cell_type": "code",
   "execution_count": 7,
   "id": "b4d74efa",
   "metadata": {},
   "outputs": [],
   "source": [
    "#\n",
    "# Ejercicio 2 - ¿Cuál es el país más “feliz” del 2021 por continente según la data\n",
    "#"
   ]
  },
  {
   "cell_type": "code",
   "execution_count": 8,
   "id": "a2a6f365-271b-4f82-b66e-d3a949d0e7f1",
   "metadata": {},
   "outputs": [
    {
     "name": "stdout",
     "output_type": "stream",
     "text": [
      "\u001b[1mLos paises mas felices por continente del 2021 son:\u001b[0m\n"
     ]
    },
    {
     "data": {
      "text/html": [
       "<div>\n",
       "<style scoped>\n",
       "    .dataframe tbody tr th:only-of-type {\n",
       "        vertical-align: middle;\n",
       "    }\n",
       "\n",
       "    .dataframe tbody tr th {\n",
       "        vertical-align: top;\n",
       "    }\n",
       "\n",
       "    .dataframe thead th {\n",
       "        text-align: right;\n",
       "    }\n",
       "</style>\n",
       "<table border=\"1\" class=\"dataframe\">\n",
       "  <thead>\n",
       "    <tr style=\"text-align: right;\">\n",
       "      <th></th>\n",
       "      <th>Regional Indicator</th>\n",
       "      <th>Country Name</th>\n",
       "      <th>Ladder Score</th>\n",
       "    </tr>\n",
       "  </thead>\n",
       "  <tbody>\n",
       "    <tr>\n",
       "      <th>0</th>\n",
       "      <td>Central and Eastern Europe</td>\n",
       "      <td>Czech Republic</td>\n",
       "      <td>6.965</td>\n",
       "    </tr>\n",
       "    <tr>\n",
       "      <th>1</th>\n",
       "      <td>Commonwealth of Independent States</td>\n",
       "      <td>Uzbekistan</td>\n",
       "      <td>6.179</td>\n",
       "    </tr>\n",
       "    <tr>\n",
       "      <th>2</th>\n",
       "      <td>East Asia</td>\n",
       "      <td>Taiwan Province of China</td>\n",
       "      <td>6.584</td>\n",
       "    </tr>\n",
       "    <tr>\n",
       "      <th>3</th>\n",
       "      <td>Latin America and Caribbean</td>\n",
       "      <td>Costa Rica</td>\n",
       "      <td>7.069</td>\n",
       "    </tr>\n",
       "    <tr>\n",
       "      <th>4</th>\n",
       "      <td>Middle East and North Africa</td>\n",
       "      <td>Israel</td>\n",
       "      <td>7.157</td>\n",
       "    </tr>\n",
       "    <tr>\n",
       "      <th>5</th>\n",
       "      <td>North America and ANZ</td>\n",
       "      <td>New Zealand</td>\n",
       "      <td>7.277</td>\n",
       "    </tr>\n",
       "    <tr>\n",
       "      <th>6</th>\n",
       "      <td>South Asia</td>\n",
       "      <td>Nepal</td>\n",
       "      <td>5.269</td>\n",
       "    </tr>\n",
       "    <tr>\n",
       "      <th>7</th>\n",
       "      <td>Southeast Asia</td>\n",
       "      <td>Singapore</td>\n",
       "      <td>6.377</td>\n",
       "    </tr>\n",
       "    <tr>\n",
       "      <th>8</th>\n",
       "      <td>Sub-Saharan Africa</td>\n",
       "      <td>Mauritius</td>\n",
       "      <td>6.049</td>\n",
       "    </tr>\n",
       "    <tr>\n",
       "      <th>9</th>\n",
       "      <td>Western Europe</td>\n",
       "      <td>Finland</td>\n",
       "      <td>7.842</td>\n",
       "    </tr>\n",
       "  </tbody>\n",
       "</table>\n",
       "</div>"
      ],
      "text/plain": [
       "                   Regional Indicator              Country Name  Ladder Score\n",
       "0          Central and Eastern Europe            Czech Republic         6.965\n",
       "1  Commonwealth of Independent States                Uzbekistan         6.179\n",
       "2                           East Asia  Taiwan Province of China         6.584\n",
       "3         Latin America and Caribbean                Costa Rica         7.069\n",
       "4        Middle East and North Africa                    Israel         7.157\n",
       "5               North America and ANZ               New Zealand         7.277\n",
       "6                          South Asia                     Nepal         5.269\n",
       "7                      Southeast Asia                 Singapore         6.377\n",
       "8                  Sub-Saharan Africa                 Mauritius         6.049\n",
       "9                      Western Europe                   Finland         7.842"
      ]
     },
     "metadata": {},
     "output_type": "display_data"
    }
   ],
   "source": [
    "# Continuo trabajando en el mismo DF, genero las agrupaciones y datos necesarios\n",
    "dfPunto2 = dfWork1.groupBy(\"RegionalIndicator\", \"CountryName\").agg(f.max(\"LadderScore\").alias(\"MaxLadderScore\"))\n",
    "\n",
    "# Calculo el maximo Ladder por Region\n",
    "window_region = Window.partitionBy(\"RegionalIndicator\")\n",
    "dfMax_Ladder_Score = dfPunto2.withColumn(\"LadderScore\", f.max(\"MaxLadderScore\").over(window_region ))\n",
    "\n",
    "\n",
    "# Filtro por el Max y selecciono las filas                               \n",
    "dfPunto2 = dfMax_Ladder_Score.filter(f.col(\"LadderScore\") == f.col(\"MaxLadderScore\"))\n",
    "dfPunto2 = dfPunto2.select(\"RegionalIndicator\", \"CountryName\", \"LadderScore\")\n",
    "\n",
    "# Preparo los resultados a mostrar\n",
    "print(\"\\033[1mLos paises mas felices por continente del 2021 son:\\033[0m\")\n",
    "\n",
    "dfPunto2 = dfPunto2.withColumnRenamed(\"RegionalIndicator\", \"Regional Indicator\") \\\n",
    "                    .withColumnRenamed(\"CountryName\", \"Country Name\") \\\n",
    "                    .withColumnRenamed(\"LadderScore\", \"Ladder Score\")\n",
    "\n",
    "# Depliego con Pandas para mejor definicion\n",
    "display(dfPunto2.toPandas())\n"
   ]
  },
  {
   "cell_type": "code",
   "execution_count": 9,
   "id": "1de86961",
   "metadata": {},
   "outputs": [],
   "source": [
    "#\n",
    "# Ejercicio 3 - ¿Cuál es el país que más veces ocupó el primer lugar en todos los años?\n",
    "#"
   ]
  },
  {
   "cell_type": "code",
   "execution_count": 10,
   "id": "e11b0fb7",
   "metadata": {},
   "outputs": [
    {
     "name": "stdout",
     "output_type": "stream",
     "text": [
      "+-----------+-------------+\n",
      "|CountryName|Ranking1Count|\n",
      "+-----------+-------------+\n",
      "|    Finland|            7|\n",
      "|    Denmark|            7|\n",
      "|     Norway|            1|\n",
      "|Switzerland|            1|\n",
      "|     Canada|            1|\n",
      "+-----------+-------------+\n",
      "\n"
     ]
    }
   ],
   "source": [
    "import pyspark.sql.functions as F\n",
    "from pyspark.sql.window import Window\n",
    "\n",
    "\n",
    "# Selecciono las columnas a utilizar\n",
    "dfWork3 = dfOriginalAll.select( col(\"Country name\").alias(\"CountryName\"),\n",
    "                                col(\"year\").cast(IntegerType()).alias(\"Year\"), \n",
    "                                col(\"Life Ladder\").cast(DoubleType()).alias(\"LifeLadder\"))\n",
    "\n",
    "# Selecciono, creo y adecuo las columnas a utilizar del dataest 2021\n",
    "dfWork3a = dfOriginal2021.select( col(\"Country name\").alias(\"CountryName\"), col(\"Ladder score\").cast(DoubleType()).alias(\"LifeLadder\"))\n",
    "dfWork3a = dfWork3a.withColumn(\"Year\",lit(2021))\n",
    "dfWork3a = dfWork3a.select(\"CountryName\", \"Year\", \"LifeLadder\")\n",
    "\n",
    "#dfWork3.show()\n",
    "#dfWork3a.show()\n",
    "\n",
    "# Uno los DF\n",
    "dfWork3 = dfWork3.union(dfWork3a)\n",
    "\n",
    "\n",
    "# Creo las particiones para numerar las posiciones\n",
    "WinYear = Window.partitionBy(\"Year\").orderBy(F.desc(\"LifeLadder\"))\n",
    "dfWork3 = dfWork3.withColumn(\"Ranking\", F.row_number().over(WinYear))\n",
    "\n",
    "# Selecciono los paises que tuvvieron la posicion 1\n",
    "dfPosiciones1 = dfWork3.filter(F.col(\"Ranking\") == 1)\n",
    "\n",
    "\n",
    "# Agrupo y cuento las posiciones 1 que tuvo cada pais\n",
    "dfResultado = dfPosiciones1.groupBy(\"CountryName\").agg(F.count(\"*\").alias(\"Ranking1Count\"))\n",
    "\n",
    "# Ordeno el resultado descendente.\n",
    "dfResultado = dfResultado.orderBy(F.desc(\"Ranking1Count\"))\n",
    "\n",
    "# Selecciono el pais con mas veces la posicion 1\n",
    "Mas_Frecuente_Pos1 = dfResultado.first()\n",
    "\n",
    "dfResultado.show()\n",
    "\n",
    "\n",
    "\n"
   ]
  },
  {
   "cell_type": "code",
   "execution_count": 11,
   "id": "b684aed0",
   "metadata": {},
   "outputs": [],
   "source": [
    "#\n",
    "# Ejercicio 4 - ¿Qué puesto de Felicidad tiene el país con mayor GDP del 2020?\n",
    "#"
   ]
  },
  {
   "cell_type": "code",
   "execution_count": 12,
   "id": "ca2f6210",
   "metadata": {},
   "outputs": [
    {
     "name": "stdout",
     "output_type": "stream",
     "text": [
      "+-----------+----+----------+------+-------+\n",
      "|CountryName|Year|LifeLadder|   GDP|Ranking|\n",
      "+-----------+----+----------+------+-------+\n",
      "|    Ireland|2020|     7.035|11.323|     13|\n",
      "+-----------+----+----------+------+-------+\n",
      "only showing top 1 row\n",
      "\n",
      "\u001b[1mEl país con mayor GDP en 2020 es\u001b[0m Ireland  \u001b[1my ocupa la posición de Felicidad :\u001b[0m 13\n"
     ]
    }
   ],
   "source": [
    "#Selecciono las columnas a utilizar\n",
    "dfWork4 = dfOriginalAll.select( col(\"Country name\").alias(\"CountryName\"),\n",
    "                                col(\"year\").cast(IntegerType()).alias(\"Year\"), \n",
    "                                col(\"Life Ladder\").cast(DoubleType()).alias(\"LifeLadder\"),\n",
    "                                col(\"Log GDP per capita\").cast(DoubleType()).alias(\"GDP\"))\n",
    "\n",
    "# Creo las particiones para numerar las posiciones\n",
    "WinYear = Window.partitionBy(\"Year\").orderBy(F.desc(\"LifeLadder\"))\n",
    "dfWork4 = dfWork4.withColumn(\"Ranking\", F.row_number().over(WinYear))\n",
    "\n",
    "# Filtro por año 2020 y ordeno\n",
    "dfResultado = dfWork4.filter(F.col(\"Year\") == 2020).orderBy(F.desc(\"GDP\"))\n",
    "\n",
    "# Obtengo el mayor\n",
    "Puesto_Felicidad_Pais_Mayor_GDP_2020 = dfResultado.first()\n",
    "\n",
    "# Muestro el resultado\n",
    "dfResultado.show(1)\n",
    "\n",
    "print(\"\\033[1mEl país con mayor GDP en 2020 es\\033[0m\", Puesto_Felicidad_Pais_Mayor_GDP_2020[\"CountryName\"] , \" \\033[1my ocupa la posición de Felicidad :\\033[0m\", Puesto_Felicidad_Pais_Mayor_GDP_2020[\"Ranking\"])\n"
   ]
  },
  {
   "cell_type": "code",
   "execution_count": 13,
   "id": "5ad9fd28",
   "metadata": {},
   "outputs": [],
   "source": [
    "#\n",
    "# Ejercicio 5 - ¿En que porcentaje a variado a nivel mundial el GDP promedio del 2020 respecto al 2021? ¿Aumentó \n",
    "#                o disminuyó?"
   ]
  },
  {
   "cell_type": "code",
   "execution_count": 14,
   "id": "91e30c6c",
   "metadata": {},
   "outputs": [
    {
     "name": "stdout",
     "output_type": "stream",
     "text": [
      "\u001b[1mEl porcentage de variación es : \u001b[0m -3.2725946782511013 %\n",
      "\u001b[1mEl promedio del 2021 respecto al 2020 : \u001b[0m disminuyo\n"
     ]
    }
   ],
   "source": [
    "#Selecciono las columnas a utilizar\n",
    "\n",
    "# Respecto a los datos historicos\n",
    "dfWork5_2020 = dfOriginalAll.select(col(\"year\").cast(IntegerType()).alias(\"Year\"), \n",
    "                                col(\"Log GDP per capita\").cast(DoubleType()).alias(\"GDP\"))\n",
    "\n",
    "# Respecto a los datos 2021\n",
    "dfWork5_2021 = dfOriginal2021.select(col(\"Logged GDP per capita\").cast(DoubleType()).alias(\"GDP\"))\n",
    "\n",
    "# Genero las vistas para realizar las consultas\n",
    "dfWork5_2020.createOrReplaceTempView(\"temp_table_2020\")\n",
    "dfWork5_2021.createOrReplaceTempView(\"temp_table_2021\")\n",
    "\n",
    "# Genero los DF con la consultas\n",
    "df2020 = spark.sql(\"SELECT AVG(GDP) AVG_GDP_2020 FROM temp_table_2020 WHERE Year = 2020\")\n",
    "df2021 = spark.sql(\"SELECT AVG(GDP) AVG_GDP_2021 FROM temp_table_2021\")\n",
    "\n",
    "# Obtengo los valores\n",
    "avg_2020 = df2020.select(\"AVG_GDP_2020\").first()[0]\n",
    "avg_2021 = df2021.select(\"AVG_GDP_2021\").first()[0]\n",
    "\n",
    "# Calculo la variación\n",
    "porcentage_variacion = ((avg_2021 - avg_2020) / avg_2020) * 100\n",
    "mayor_2021 = \"aumento\" if porcentage_variacion > 0 else 'disminuyo'\n",
    "# Muestro el resultado\n",
    "print(\"\\033[1mEl porcentage de variación es : \\033[0m\", porcentage_variacion, \"%\")\n",
    "print(\"\\033[1mEl promedio del 2021 respecto al 2020 : \\033[0m\", mayor_2021)\n"
   ]
  },
  {
   "cell_type": "code",
   "execution_count": 15,
   "id": "33288b4a",
   "metadata": {},
   "outputs": [],
   "source": [
    "#\n",
    "# Ejercicio 6 - ¿Cuál es el país con mayor expectativa de vide (“Healthy life expectancy at birth”)? Y ¿Cuánto tenia \n",
    "#                en ese indicador en el 2019?\n"
   ]
  },
  {
   "cell_type": "code",
   "execution_count": 16,
   "id": "b4645782",
   "metadata": {},
   "outputs": [
    {
     "name": "stdout",
     "output_type": "stream",
     "text": [
      "\u001b[1mEl pais con mayor espectativa de vida historicamente es : \u001b[0m Singapore\n",
      "+-----------+\n",
      "|CountryName|\n",
      "+-----------+\n",
      "|  Singapore|\n",
      "+-----------+\n",
      "only showing top 1 row\n",
      "\n",
      "+-----------+----+--------------+\n",
      "|CountryName|Year|LifeExpectancy|\n",
      "+-----------+----+--------------+\n",
      "|  Singapore|2019|          77.1|\n",
      "+-----------+----+--------------+\n",
      "\n"
     ]
    }
   ],
   "source": [
    "#Selecciono las columnas a utilizar\n",
    "dfWork6 = dfOriginalAll.select(col(\"Country name\").alias(\"CountryName\"),\n",
    "                                col(\"year\").cast(IntegerType()).alias(\"Year\"), \n",
    "                                col(\"Healthy life expectancy at birth\").cast(DoubleType()).alias(\"LifeExpectancy\"))\n",
    "\n",
    "\n",
    "\n",
    "# Selecciono, creo y adecuo las columnas a utilizar del dataest 2021\n",
    "dfWork6_2021 = dfOriginal2021.select( col(\"Country name\").alias(\"CountryName\"), col(\"Healthy life expectancy\").cast(DoubleType()).alias(\"LifeExpectancy\"))\n",
    "dfWork6_2021 = dfWork6_2021.withColumn(\"Year\",lit(2021))\n",
    "dfWork6_2021 = dfWork6_2021.select(\"CountryName\", \"Year\", \"LifeExpectancy\")\n",
    "\n",
    "#dfWork3.show()\n",
    "#dfWork3a.show()\n",
    "\n",
    "# Uno los DF\n",
    "dfWork6 = dfWork6.union(dfWork6_2021)\n",
    "\n",
    "\n",
    "\n",
    "\n",
    "# Calculo el pais con mayor espectativa de vida\n",
    "dfMayor_Espectativa = dfWork6.select(\"CountryName\").orderBy(F.desc(\"LifeExpectancy\"))\n",
    "Mayor_Espectativa = dfMayor_Espectativa.first()[0]\n",
    "\n",
    "\n",
    "# Filtron por el año solicitado y el nombre de pais obtenido como con mayor espectativa\n",
    "dfMayor_Espectativa_2019 =  dfWork6.filter( (F.col(\"Year\") == 2019) & (F.col(\"CountryName\") == Mayor_Espectativa) )\n",
    "Mayor_Espectativa_2019 = dfMayor_Espectativa_2019.first()[0]\n",
    "\n",
    "\n",
    "# Muestro el resultado\n",
    "print(\"\\033[1mEl pais con mayor espectativa de vida historicamente es : \\033[0m\", Mayor_Espectativa)\n",
    "\n",
    "dfMayor_Espectativa.show(1)\n",
    "\n",
    "dfMayor_Espectativa_2019.show()\n",
    "\n"
   ]
  }
 ],
 "metadata": {
  "kernelspec": {
   "display_name": "Python 3 (ipykernel)",
   "language": "python",
   "name": "python3"
  },
  "language_info": {
   "codemirror_mode": {
    "name": "ipython",
    "version": 3
   },
   "file_extension": ".py",
   "mimetype": "text/x-python",
   "name": "python",
   "nbconvert_exporter": "python",
   "pygments_lexer": "ipython3",
   "version": "3.11.5"
  }
 },
 "nbformat": 4,
 "nbformat_minor": 5
}
